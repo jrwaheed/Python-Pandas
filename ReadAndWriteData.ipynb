{
 "cells": [
  {
   "cell_type": "code",
   "execution_count": 2,
   "id": "53a0e150",
   "metadata": {},
   "outputs": [
    {
     "name": "stdout",
     "output_type": "stream",
     "text": [
      "<class 'pandas.core.frame.DataFrame'>\n"
     ]
    }
   ],
   "source": [
    "import pandas as pd\n",
    "\n",
    "csv_data = pd.read_csv(\"static/sample_data.csv\", header=None)\n",
    "\n",
    "print(type(csv_data))"
   ]
  },
  {
   "cell_type": "code",
   "execution_count": 3,
   "id": "b317cfd9",
   "metadata": {},
   "outputs": [
    {
     "name": "stdout",
     "output_type": "stream",
     "text": [
      "       0    1   2    3    4   5\n",
      "0  here     a   b    c    d   e\n",
      "1    is     8   1   23    3   4\n",
      "2  some     5   4  NaN  678  43\n",
      "3   csv   345   4    6   96   2\n",
      "4   data    4  54    4    5   2\n"
     ]
    }
   ],
   "source": [
    "print(csv_data)"
   ]
  },
  {
   "cell_type": "code",
   "execution_count": 4,
   "id": "21cbc050",
   "metadata": {},
   "outputs": [
    {
     "name": "stdout",
     "output_type": "stream",
     "text": [
      "       0    1  2    3    4   5\n",
      "0  here     a  b    c    d   e\n",
      "1  some     5  4  NaN  678  43\n",
      "2   csv   345  4    6   96   2\n"
     ]
    }
   ],
   "source": [
    "csv_new_data = pd.read_csv(\"static/sample_data.csv\", header=None, skiprows=(1,4))\n",
    "print(csv_new_data)"
   ]
  },
  {
   "cell_type": "code",
   "execution_count": 6,
   "id": "e5ee2052",
   "metadata": {},
   "outputs": [
    {
     "name": "stdout",
     "output_type": "stream",
     "text": [
      "       0    1    2    3    4    5\n",
      "0  here     a    b    c    d    e\n",
      "1    is     8    1   23    3  NaN\n",
      "2  some     5  NaN  NaN  678   43\n",
      "3   csv   345  NaN    6   96    2\n",
      "4   data  NaN   54  NaN    5    2\n"
     ]
    }
   ],
   "source": [
    "nan_csv_data = pd.read_csv(\"static/sample_data.csv\", header=None, na_values='4')\n",
    "print(nan_csv_data)"
   ]
  },
  {
   "cell_type": "code",
   "execution_count": null,
   "id": "b57591de",
   "metadata": {},
   "outputs": [
    {
     "name": "stdout",
     "output_type": "stream",
     "text": [
      "<pandas.io.parsers.readers.TextFileReader object at 0x70a11a3ddf10>\n"
     ]
    }
   ],
   "source": [
    "# WORKING WITH LARGER DATA SETS\n",
    "\n",
    "apple_data = pd.read_csv(\"static/HistoricalData_Apple.csv\")\n",
    "print(apple_data)\n"
   ]
  }
 ],
 "metadata": {
  "kernelspec": {
   "display_name": "Python 3 (ipykernel)",
   "language": "python",
   "name": "python3"
  },
  "language_info": {
   "codemirror_mode": {
    "name": "ipython",
    "version": 3
   },
   "file_extension": ".py",
   "mimetype": "text/x-python",
   "name": "python",
   "nbconvert_exporter": "python",
   "pygments_lexer": "ipython3",
   "version": "3.12.3"
  }
 },
 "nbformat": 4,
 "nbformat_minor": 5
}
