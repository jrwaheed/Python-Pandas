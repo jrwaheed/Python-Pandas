{
 "cells": [
  {
   "cell_type": "code",
   "execution_count": 3,
   "id": "8bcc8c52",
   "metadata": {},
   "outputs": [
    {
     "data": {
      "text/plain": [
       "<class 'pandas.io.pytables.HDFStore'>\n",
       "File path: static/mydata.h5"
      ]
     },
     "execution_count": 3,
     "metadata": {},
     "output_type": "execute_result"
    }
   ],
   "source": [
    "import numpy as np\n",
    "import pandas as pd\n",
    "\n",
    "\n",
    "frame = pd.DataFrame({'a' : np.random.randn(1000)})\n",
    "\n",
    "store = pd.HDFStore('static/mydata.h5')\n",
    "store['object1'] = frame\n",
    "store['object1_col'] = frame.a\n",
    "store\n"
   ]
  },
  {
   "cell_type": "code",
   "execution_count": 5,
   "id": "bc7de249",
   "metadata": {},
   "outputs": [
    {
     "name": "stdout",
     "output_type": "stream",
     "text": [
      "            a\n",
      "0    0.613843\n",
      "1    0.096793\n",
      "2   -0.316386\n",
      "3   -1.904562\n",
      "4    0.223507\n",
      "..        ...\n",
      "995  0.576100\n",
      "996 -0.474109\n",
      "997  0.150231\n",
      "998 -0.656565\n",
      "999  0.822937\n",
      "\n",
      "[1000 rows x 1 columns]\n"
     ]
    }
   ],
   "source": [
    "print(store['object1'])"
   ]
  },
  {
   "cell_type": "code",
   "execution_count": null,
   "id": "a09fdf69",
   "metadata": {},
   "outputs": [],
   "source": []
  }
 ],
 "metadata": {
  "kernelspec": {
   "display_name": "Python 3 (ipykernel)",
   "language": "python",
   "name": "python3"
  },
  "language_info": {
   "codemirror_mode": {
    "name": "ipython",
    "version": 3
   },
   "file_extension": ".py",
   "mimetype": "text/x-python",
   "name": "python",
   "nbconvert_exporter": "python",
   "pygments_lexer": "ipython3",
   "version": "3.12.3"
  }
 },
 "nbformat": 4,
 "nbformat_minor": 5
}
